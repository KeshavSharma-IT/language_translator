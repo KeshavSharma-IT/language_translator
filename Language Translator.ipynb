{
 "cells": [
  {
   "cell_type": "markdown",
   "metadata": {},
   "source": [
    "# hindi to english "
   ]
  },
  {
   "cell_type": "code",
   "execution_count": 1,
   "metadata": {},
   "outputs": [],
   "source": [
    "import pandas as pd\n",
    "from googletrans import Translator"
   ]
  },
  {
   "cell_type": "code",
   "execution_count": 2,
   "metadata": {},
   "outputs": [
    {
     "name": "stdout",
     "output_type": "stream",
     "text": [
      "  Vegetable Names\n",
      "0           गाजर \n",
      "1     शिमला मिर्च\n",
      "2         भिन्डी \n",
      "3          मक्का \n",
      "4       लाल मिर्च\n",
      "5           खीरा \n",
      "6       कढ़ी पत्ता\n",
      "7           बैगन \n",
      "8          लहसुन \n",
      "9           अदरक \n"
     ]
    }
   ],
   "source": [
    "data = pd.read_csv(\"hindi.csv\")\n",
    "print(data)"
   ]
  },
  {
   "cell_type": "markdown",
   "metadata": {},
   "source": [
    "#  converting file into English"
   ]
  },
  {
   "cell_type": "code",
   "execution_count": 3,
   "metadata": {},
   "outputs": [
    {
     "name": "stdout",
     "output_type": "stream",
     "text": [
      "('गाजर ', 'carrot')\n",
      "('शिमला मिर्च', 'capsicum')\n",
      "('भिन्डी ', 'Lady finger')\n",
      "('मक्का ', 'maize')\n",
      "('लाल मिर्च', 'Red chilli')\n",
      "('खीरा ', 'Cucumber')\n",
      "('कढ़ी पत्ता', 'curry leaves')\n",
      "('बैगन ', 'brinjal')\n",
      "('लहसुन ', 'garlic')\n",
      "('अदरक ', 'ginger')\n"
     ]
    }
   ],
   "source": [
    "translator = Translator()\n",
    "translations = {}\n",
    "for column in data.columns:\n",
    "    unique = data[column].unique()\n",
    "    for element in unique:\n",
    "        translations[element] = translator.translate(element).text\n",
    "for i in translations.items():\n",
    "    print(i)"
   ]
  },
  {
   "cell_type": "markdown",
   "metadata": {},
   "source": [
    "# Detecting a text language"
   ]
  },
  {
   "cell_type": "code",
   "execution_count": 4,
   "metadata": {},
   "outputs": [
    {
     "name": "stdout",
     "output_type": "stream",
     "text": [
      "Detected(lang=en, confidence=0.70887727)\n"
     ]
    }
   ],
   "source": [
    "text1=\"keshav\"\n",
    "dt=translator.detect(text1)\n",
    "print(dt)"
   ]
  },
  {
   "cell_type": "code",
   "execution_count": 5,
   "metadata": {},
   "outputs": [
    {
     "name": "stdout",
     "output_type": "stream",
     "text": [
      "Detected(lang=hi, confidence=0.80078125)\n"
     ]
    }
   ],
   "source": [
    "text1=\"गाजर\"\n",
    "dt=translator.detect(text1)\n",
    "print(dt)"
   ]
  },
  {
   "cell_type": "code",
   "execution_count": 6,
   "metadata": {},
   "outputs": [
    {
     "name": "stdout",
     "output_type": "stream",
     "text": [
      "Detected(lang=hi, confidence=1)\n"
     ]
    }
   ],
   "source": [
    "dt2=translator.detect(data)\n",
    "print(dt2)"
   ]
  },
  {
   "cell_type": "markdown",
   "metadata": {},
   "source": [
    "# Translate to any language"
   ]
  },
  {
   "cell_type": "code",
   "execution_count": 7,
   "metadata": {},
   "outputs": [
    {
     "name": "stdout",
     "output_type": "stream",
     "text": [
      "Detected(lang=en, confidence=0.9813656)\n",
      "I am a software developer\n"
     ]
    }
   ],
   "source": [
    "tren=translator.translate('saya seorang pengembang perangkat lunak').text\n",
    "detect_=translator.detect(tren)\n",
    "print(detect_)\n",
    "print(tren)\n"
   ]
  },
  {
   "cell_type": "code",
   "execution_count": 8,
   "metadata": {},
   "outputs": [
    {
     "name": "stdout",
     "output_type": "stream",
     "text": [
      "Detected(lang=hi, confidence=1)\n"
     ]
    },
    {
     "data": {
      "text/plain": [
       "'मैं एक सॉफ्टवेयर डेवलपर हूं'"
      ]
     },
     "execution_count": 8,
     "metadata": {},
     "output_type": "execute_result"
    }
   ],
   "source": [
    "# we can do it by two ways\n",
    "\n",
    "tren=translator.translate('saya seorang pengembang perangkat lunak',dest='hi')\n",
    "detect_=translator.detect(tren)\n",
    "print(detect_)\n",
    "tren.text"
   ]
  },
  {
   "cell_type": "code",
   "execution_count": 9,
   "metadata": {},
   "outputs": [
    {
     "data": {
      "text/plain": [
       "'मैं एक सॉफ्टवेयर डेवलपर हूं'"
      ]
     },
     "execution_count": 9,
     "metadata": {},
     "output_type": "execute_result"
    }
   ],
   "source": [
    "# in src we write input laguage code and in dest we write our desire output language code\n",
    "\n",
    "tren2=translator.translate('saya seorang pengembang perangkat lunak',src='id',dest='hi').text\n",
    "tren2"
   ]
  },
  {
   "cell_type": "code",
   "execution_count": 10,
   "metadata": {},
   "outputs": [
    {
     "name": "stdout",
     "output_type": "stream",
     "text": [
      "('गाजर ', 'wortel')\n",
      "('शिमला मिर्च', 'Capsicum')\n",
      "('भिन्डी ', 'jari wanita')\n",
      "('मक्का ', 'jagung')\n",
      "('लाल मिर्च', 'cabai merah')\n",
      "('खीरा ', 'Timun')\n",
      "('कढ़ी पत्ता', 'daun kari')\n",
      "('बैगन ', 'terung')\n",
      "('लहसुन ', 'Bawang putih')\n",
      "('अदरक ', 'Jahe')\n"
     ]
    }
   ],
   "source": [
    "#  hindi data is converted to Indonesian\n",
    "translations = {}\n",
    "# we use df.columns ittrate through a dataframe \n",
    "for column in data.columns:\n",
    "    unique = data[column].unique()\n",
    "    for element in unique:\n",
    "        translations[element] = translator.translate(element,dest='id').text\n",
    "for i in translations.items():\n",
    "    print(i)"
   ]
  },
  {
   "cell_type": "code",
   "execution_count": 11,
   "metadata": {},
   "outputs": [
    {
     "name": "stdout",
     "output_type": "stream",
     "text": [
      "হ্যালো আমি কেশব শর্ম\n"
     ]
    }
   ],
   "source": [
    "# bn means Bangla\n",
    "text=translator.translate(\"hello i am keshav sharma\",src='en',dest='bn').text\n",
    "print(text)\n",
    "    \n",
    "   "
   ]
  }
 ],
 "metadata": {
  "interpreter": {
   "hash": "cd8ac7ed5329ff1f59a8356dfddf06d159cf18414acbfd7b13d1d5cd1cbb5d7d"
  },
  "kernelspec": {
   "display_name": "Python 3",
   "language": "python",
   "name": "python3"
  },
  "language_info": {
   "codemirror_mode": {
    "name": "ipython",
    "version": 3
   },
   "file_extension": ".py",
   "mimetype": "text/x-python",
   "name": "python",
   "nbconvert_exporter": "python",
   "pygments_lexer": "ipython3",
   "version": "3.8.5"
  }
 },
 "nbformat": 4,
 "nbformat_minor": 4
}
